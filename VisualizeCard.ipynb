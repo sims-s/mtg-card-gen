{
 "cells": [
  {
   "cell_type": "code",
   "execution_count": 1,
   "metadata": {},
   "outputs": [],
   "source": [
    "import json\n",
    "import os\n",
    "from IPython.core.display import HTML\n",
    "from visualize_card import visualize_card, form_table"
   ]
  },
  {
   "cell_type": "code",
   "execution_count": 2,
   "metadata": {},
   "outputs": [
    {
     "data": {
      "text/html": [
       "<style>.container { width:100% !important; }</style>"
      ],
      "text/plain": [
       "<IPython.core.display.HTML object>"
      ]
     },
     "metadata": {},
     "output_type": "display_data"
    }
   ],
   "source": [
    "from IPython.core.display import display, HTML\n",
    "display(HTML(\"<style>.container { width:100% !important; }</style>\"))"
   ]
  },
  {
   "cell_type": "code",
   "execution_count": 3,
   "metadata": {},
   "outputs": [],
   "source": [
    "def load_json(path):\n",
    "    with open(path, 'r', encoding='utf-8') as f:\n",
    "        return json.load(f)"
   ]
  },
  {
   "cell_type": "code",
   "execution_count": 4,
   "metadata": {},
   "outputs": [],
   "source": [
    "files = os.listdir('CardsRound1/')"
   ]
  },
  {
   "cell_type": "code",
   "execution_count": null,
   "metadata": {
    "scrolled": true
   },
   "outputs": [
    {
     "name": "stderr",
     "output_type": "stream",
     "text": [
      "C:\\Users\\hdnfd\\Desktop\\mtg-gpt2-cardgen\\visualize_card.py:24: UserWarning: This card failed to parse!\n",
      "  warnings.warn(\"This card failed to parse!\")\n"
     ]
    },
    {
     "name": "stdout",
     "output_type": "stream",
     "text": [
      "Adorable Fluglewump, Badglewump, Street Folkfiend: Disciple of the House of Havas, Collector of Bishop's Gauntlets, World Monstrosity, Haste\n",
      "Adorable Fluglewump {1}{W}| uncommon| Whenever a creature enters the battlefield under your control, you may return target creature card from your graveyard to your hand.| None| None| None| \"I've seen the unbelievers, of course, but they're not exactly the angels who populate the Fluglewump.\" line_break —Krijana, the Watcher\n",
      "Adorable Fluglewump. Augment your library and put all fluglies you control onto the battlefield tapped for mana.| None| None| None| In his laboratory, he designed his own device that would kill anything in sight.\n",
      "Adorable Fluglewump on the Forge of Souls.\" line_break —Vorashin, Lord of Rifts\n",
      "Adorable Fluglewump on Jund\" line_break {4}{R}: Add {C}. line_break {4}{U}: Mill 2. Create a 1/1 white Rat creature token.| 4| 4| None| None\n",
      "Adorable Fluglewump. Augment your library and put all fluglewombs you own into your hand.| None| None| None| A few moments of contemplation have calmed his mind.\n",
      "Adorable Fluglewump on the Forge of Souls.\" line_break —Vorin, Grixis Overseer\n",
      "Archangel of Juxtaposition\" power and toughness, until end of turn. line_break At the beginning of your upkeep, you get an additional {G}{G} and draw a card, then discard a card.| 0| 1| None| None\n",
      "Archangel of Juxtaposition\" gets +2/+0. line_break \"Great creature's power and toughness are each equal to the greatest land all land cards face.\"\n",
      "Archangel of Juxtaposition\" enchantment| {2}{R}| uncommon| As an additional cost to cast this spell, sacrifice a creature. line_break Enchanted creature gets +1/+1.| None| None| None| \"Many who oppose unbelief have found their faith in the power of the Holy Spirit. We must heed their warning.\"\n",
      "Archangel of Juxtaposition {1}{W}| mythic| Flying line_break Whenever you cast a white spell, the next time you tap an untapped creature, if you have more life this turn, copy that copy. (To copy an instant card, put a +1/+1 counter on it and copy it for each time you cast it without paying its mana cost.)| 4| 3| None| None\n",
      "Archangel of Juxtaposition</Color>| legendary| {1}{R}{R}: Target player reveals the top five cards of their library. Put the rest into their graveyard.| None| None| None| \"For me, it is the path of truth that has given me wings and a soul.\" line_break —Jace Beleren\n",
      "Archangel of Juxtaposition {1}{W}| mythic| Flying line_break Whenever Esper enters the battlefield, sacrifice the top four cards of your library. line_break At the beginning of each end step, untap target creature.| 2| 2| None| \"The foresters often track them down by disguising their movements. When they are caught, they fade into obscurity.\"\n",
      "Archangel of Juxtaposition</Color>| legendary| {1}{R}{R}: Clash with another black creature and you gain 2 life. (Each sacrifices a permanent an opponent controls for each color of mana they control, and those cards don't die until they reach the battlefield.)| None| None| None| It's time for us to save the cycle.\n",
      "Archangel of Juxtaposition {1}{W}| mythic| Flying line_break Whenever you cast a white spell, the next time you tap an untapped creature, if you have more life this turn, copy that copy. (To copy an instant card, put a +1/+1 counter on it and copy it for each time you cast it without paying its mana cost.)| 4| 3| None| None\n",
      "Archangel of Juxtaposition</Color>| {2}{G}{G}| uncommon| Protection from black (This creature can't be blocked except by artifact creatures and/or black creatures.) line_break Whenever two or more instant and sorcery cards are put into a graveyard from the battlefield, each player draws a card.| 3| 3| None| \"I'm still learning. The sooner we learn from our mistakes, the better.\"\n",
      "Darksteel Silverware| Enchantment — Aura| {3}{W}{U}| uncommon| Enchant creature line_break Enchanted creature loses indestructible. line_break Outlast 3 (When this creature dies, return it to the battlefield under its owner's control at the beginning of the next end step or if it was dealt damage, then return it to the battlefield under its owner's control at the beginning of the next end step if it was dealt damage, then return it to the battlefield under its owner's control at the beginning of the next end step or if it was dealt damage, then return it to the battlefield\n",
      "Demonic Paperclip| Artifact| {4}| mythic| Remove an enchantment from another target creature when you put it from your graveyard. line_break When Ghost Warrior enters the battlefield, draw a card at random. line_break Remove three enchantment counters from Saints Row, Inc。 line_break| None| None| None\n",
      "Demonic Paperclip| Artifact — Equipment| {4}| common| Equipped creature can't attack unless it has the dragon's power. line_break Equip {2}| None| None| None| The dragon's outstretched hand gives everything a move of its own. line_break Equip {5}| None| None| None\n"
     ]
    },
    {
     "name": "stderr",
     "output_type": "stream",
     "text": [
      "c:\\users\\hdnfd\\appdata\\local\\programs\\python\\python38\\lib\\site-packages\\matplotlib\\backends\\backend_agg.py:238: RuntimeWarning: Glyph 12290 missing from current font.\n",
      "  font.set_text(s, 0.0, flags=flags)\n",
      "c:\\users\\hdnfd\\appdata\\local\\programs\\python\\python38\\lib\\site-packages\\matplotlib\\backends\\backend_agg.py:201: RuntimeWarning: Glyph 12290 missing from current font.\n",
      "  font.set_text(s, 0, flags=flags)\n"
     ]
    },
    {
     "name": "stdout",
     "output_type": "stream",
     "text": [
      "Eldrazi Rocket Ship| Artifact — Equipment| {2}| uncommon| Equipped creature gets +2/+2. line_break Equip {2} ({2}: Attach to target creature you control. Equip only as a sorcery.) line_break Equip {2} ({2}: Attach to target creature you control. Equip only as a sorcery.) line_break Equip {2} ({2}:\n",
      "Eldrazi Rocket Ship| Artifact — Equipment| {2}| uncommon| Equipped creature gets +2/+2. line_break Equip {2} ({2}: Attach to target creature you control. Equip only as a sorcery.) line_break Equip {2} ({2}: Attach to target creature you control. Equip only as a sorcery.) line_break Equip {3} ({3}:\n",
      "Eldrazi Rocket Ship| rare| Whenever you play a land, create a 2/2 green Dinosaur creature token.| 0| 4| None| Construct used to keep the Eldrazi Catastry in check, but with Yuvi's citadel expanded, things could go cobbling through their defenses.\n",
      "Eldrazi Rocket Shipyard, Commons| Rare| {4}, {T}, Sacrifice Eldrazi Rocket Shipyard: Create a 1/1 red Saproling creature token with flying.| None| None| None| \"Reason is spice. Discord is square territory.\" line_break —Karn, Gamerin' Snipers\n",
      "Eldrazi Rocket Ship| {B}{B}| rare| Enchanted creature gets +0/+2. line_break Cycling {1} ({1}, Discard this card: Draw a card.)| None| None| None| To make it work, it would be as if Riververdrect had mounted the Sphinx and pushed out her nine or ten dragons.\n",
      "Eldrazi Rocket Ship has flying as long as Dominaria Champion is attached to your commander.) line_break Run Away (To block this turn, sacrifice a land. This creature deals massive damage to any target.)| None| None| None| \"Ruthless sounds were an unexpected commodity of Dominaria's abandoned mining districts. It wasn't until the Lycosians and the Dwemer forces began thawing order that a universal kami sent her with orders for a new crusade.\" line_break —Vivien Oxmane, Lord of the Avens\n",
      "Eldrazi Rocket Ship — Construct| {2}{W}| rare| Flying line_break {T}, Sacrifice a creature: Destroy target artifact or enchantment.| 2| 3| None| None\n",
      "Eldrazi Rocket Shipyard Augur's Rage, Artificer // Augur's Rage, Artificer // Augur's Rage| Legendary Creature — Eldrazi Warrior| {1}{G}, {T}: Create a 2/2 green Dragon creature token. line_break {G}, {T}: Return up to one target Eldrazi Rocket to its owner's hand.| 2| 4| None| \"This world could be yours today if you accept the call from my god.\"\n",
      "Eldrazi Rocket Ship (This Vehicle is an artifact with \"{2}, Sacrifice this artifact: Draw a card.\") line_break {T}: Create the top three cards of your library, then put any number of them on top of their owner's library in a random order.| None| None| None| \"It's time for us to make a last stand for our own safety.\" line_break —Sylvan Sun, commander of the Volrath Coalition\n",
      "Eldrazi Rocket Shipyard is a basic land type.| 4| 3| None| \"Don't let too many goblins kill you. I promise we won't end up like that.\" line_break —Gilborn of the First Order\n",
      "Eldrazi Rocket Shipyard Augur Grotto, Boulder Augur Shriner Guildmage Guildmage's Guildmage's Guildmage's Guildmage's Guildmage's Guildmage's Guildmage's Guildmage's Guildmage's Guildmage's Guildmage's Guildmage's Guildmage's Guildmage's Guildmage's Guildmage's Guildmage's Guildmage's Guildmage's Guildmage's Guildmage's Guildmage's Guildmage's Guildmage's Guildmage's Guildmage's Guildmage's Guildmage's Guildmage's Guildmage's Guildmage's Guildmage's Guildmage's Guildmage's Guildmage's Guildmage's Guildmage's Guildmage's Guildmage's Guildmage's Guildmage's Guildmage's Guildmage's Guildmage's Guildmage's Guildmage's Guildmage's Guildmage's Guildmage's Guildmage's Guildmage's Guildmage's Guildmage's Guildmage's Guildmage's Guildmage's Guildmage's Guildmage's Guildmage's Guildmage's Guildmage's Guildmage's Guildmage's Guildmage's Guildmage's Guildmage's Guildmage's Guildmage's Guildmage's Guildmage's Guildmage's Guildmage's Guildmage's Guildmage's Guildmage's Guildmage's Guildmage's Guildmage's Guildmage\n",
      "Eldrazi Rocket Ship (This Vehicle is Projectile-Draining, meaning it can't be kicked.)| 1| 1| None| \"Does this team need an extra armored wing?\" —\"Tombstone Fragment\"\n",
      "Eldrazi Rocket Shipyard Sell Price: 3| None| None| It's easy to become one's own boss. After all, the names are already there.\n",
      "Eldrazi Rocket Ship (This Vehicle is an artifact with \"{2}, Sacrifice this artifact: Draw a card.\") line_break {T}: Create two 1/1 white Rhino artifact creature tokens with flying and haste.| None| None| None| It took only a day for the city of Eredos to become the city it is today.\n",
      "Eldrazi Rocket Shipyard is a basic land type.| 4| 3| None| \"Don't let me steal your weapons from you. The ones you just gave me weren't mine.\" line_break —Azorius, Gruul commander\n",
      "Elf Goblin| {2}{W}| uncommon| {T}: Add {C}. line_break {1}{W}: Add {C}.| None| None| None| \"The goblins are the only ones who can't be trusted.\" line_break —Gerrard of the Goblin Guild\n",
      "Elf Goblin we found in Nettle Fields appeared to be creatures of lesser intelligence. The goblins clung tightly to him, but he wasn't dragging them. He flung himself at her, tossing her guts into a binder's storage closet.\n",
      "Elf Goblin Rogue 3| 2| None| \"It doesn't look good on my wounds. If it ever got this far, it would have been a skeleton that hides behind a desk on a greener, inviting geyser before it surfaced.\" line_break —Tsoung, Gamerinancer\n",
      "Elf Goblin Shaman can't be blocked by enchant creatures. line_break Insolvency {2}{B} (You may cast this card face down as a 2/2 creature for {3}. Turn it face up any time for its morph cost.)| 1| 1| None| \"You may want to take your mana instead of draining it quickly.\"\n",
      "Elf Goblin you control has \"{T}, Sacrifice a Goblin: Add {C}{C}. Draw a card.\"| None| None| None| \"Every goblin knows the greatest secret. Every sane goblin knows the second greatest secret.\" line_break —*Goblin Tales*\n",
      "Elf Goblin| {2}{W}{W}| common| As long as you control a Goblin, Goblin creatures you control get +1/+1.| 1| 2| None| \"The goblins in the jungle are fragile. But they're not fragile alone.\" line_break —Kerek, shapeshifter\n",
      "Elf Goblin Shaman| {2}{G}| uncommon| {T}, Sacrifice a green Goblin: Target creature gets +1/+1 until end of turn.| None| None| None| \"The sword will end our battle.\" line_break —Kavu, goblin sharpshooter\n",
      "Elf Goblin Berserker {1}{W}| common| Whenever a Goblin dies, you may exile a nonland permanent from your graveyard.| 2| 1| None| The gnomes of this world speak with borrowed language and can sing with old melodies, but the gnomes of this world can sing with a new life.\n",
      "Elf Goblin Berserker| {5}{R}| rare| Whenever you cast a spell with converted mana cost 5 or less, create a 1/1 white Goblin Warrior creature token with indestructible. line_break {T}: Create a 1/1 white Goblin Warrior creature token with indestructible.| 2| 2| None| None\n",
      "Elf Goblin Shaman| {6}{W}| uncommon| *When Goblin Shaman enters the battlefield, scry 1. (Look at the top three cards of your library, then put any number of them on the bottom of your library and the rest on top in any order.)| 2| 4| None| None\n",
      "Elf Goblin Shaman, Swampwalk| {2}{U}| uncommon| As an additional cost to cast this spell, sacrifice a land for each Swampwalk you control. line_break {B}, Exile a creature card from your graveyard: Choose one — {B} (You may cast this card from your graveyard for its flashback cost. Then exile it.)| None| None| None| \"You have chosen to be here for the best part of a dozen years.\"\n",
      "Elf Goblin creature with power 8 or greater. line_break When Goblin Berserker enters the battlefield, put an extra +1/+1 counter on Goblin Berserker. Activate this ability only during your turn and only if Goblin Berserker has equipped.| 3| 3| None| None\n",
      "Elf Goblin Shaman| {W}{W}| uncommon| Remove an enchantment from another target creature: Create a token that's a copy of the creature. Activate this ability only once each turn and only once each turn.| 1| 4| None| None\n",
      "Elf Goblin Shaman, Swampwalk| {2}{U}| uncommon| As an additional cost to cast this spell, sacrifice a land. line_break Players can't cast spells from their graveyard.| None| None| None| One for the Goblins' meals and the excellent food of home.\n"
     ]
    }
   ],
   "source": [
    "for f in files:\n",
    "    cards = load_json('CardsRound1/' + f)\n",
    "    form_table(cards, output_name='OutputsRound1/%s'%f[:-5])"
   ]
  },
  {
   "cell_type": "code",
   "execution_count": null,
   "metadata": {},
   "outputs": [],
   "source": []
  },
  {
   "cell_type": "code",
   "execution_count": null,
   "metadata": {
    "scrolled": true
   },
   "outputs": [],
   "source": []
  }
 ],
 "metadata": {
  "kernelspec": {
   "display_name": "Python 3",
   "language": "python",
   "name": "python3"
  },
  "language_info": {
   "codemirror_mode": {
    "name": "ipython",
    "version": 3
   },
   "file_extension": ".py",
   "mimetype": "text/x-python",
   "name": "python",
   "nbconvert_exporter": "python",
   "pygments_lexer": "ipython3",
   "version": "3.8.7"
  }
 },
 "nbformat": 4,
 "nbformat_minor": 4
}
