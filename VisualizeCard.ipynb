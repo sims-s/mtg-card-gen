{
 "cells": [
  {
   "cell_type": "code",
   "execution_count": 1,
   "metadata": {},
   "outputs": [],
   "source": [
    "import json\n",
    "import os\n",
    "from IPython.core.display import HTML\n",
    "from visualize_card import visualize_card, form_table"
   ]
  },
  {
   "cell_type": "code",
   "execution_count": 2,
   "metadata": {},
   "outputs": [
    {
     "data": {
      "text/html": [
       "<style>.container { width:100% !important; }</style>"
      ],
      "text/plain": [
       "<IPython.core.display.HTML object>"
      ]
     },
     "metadata": {},
     "output_type": "display_data"
    }
   ],
   "source": [
    "from IPython.core.display import display, HTML\n",
    "display(HTML(\"<style>.container { width:100% !important; }</style>\"))"
   ]
  },
  {
   "cell_type": "code",
   "execution_count": 3,
   "metadata": {},
   "outputs": [],
   "source": [
    "def load_json(path):\n",
    "    with open(path, 'r', encoding='utf-8') as f:\n",
    "        return json.load(f)"
   ]
  },
  {
   "cell_type": "code",
   "execution_count": 4,
   "metadata": {},
   "outputs": [],
   "source": [
    "files = os.listdir('CardsRound1/')"
   ]
  },
  {
   "cell_type": "code",
   "execution_count": 5,
   "metadata": {
    "scrolled": true
   },
   "outputs": [
    {
     "name": "stderr",
     "output_type": "stream",
     "text": [
      "C:\\Users\\hdnfd\\Desktop\\mtg-gpt2-cardgen\\visualize_card.py:24: UserWarning: This card failed to parse!\n",
      "  warnings.warn(\"This card failed to parse!\")\n"
     ]
    },
    {
     "name": "stdout",
     "output_type": "stream",
     "text": [
      "Adorable Fluglewump, Badglewump, Street Folkfiend: Disciple of the House of Havas, Collector of Bishop's Gauntlets, World Monstrosity, Haste\n",
      "Adorable Fluglewump {1}{W}| uncommon| Whenever a creature enters the battlefield under your control, you may return target creature card from your graveyard to your hand.| None| None| None| \"I've seen the unbelievers, of course, but they're not exactly the angels who populate the Fluglewump.\" line_break —Krijana, the Watcher\n",
      "Adorable Fluglewump. Augment your library and put all fluglies you control onto the battlefield tapped for mana.| None| None| None| In his laboratory, he designed his own device that would kill anything in sight.\n",
      "Adorable Fluglewump on the Forge of Souls.\" line_break —Vorashin, Lord of Rifts\n",
      "Adorable Fluglewump on Jund\" line_break {4}{R}: Add {C}. line_break {4}{U}: Mill 2. Create a 1/1 white Rat creature token.| 4| 4| None| None\n",
      "Adorable Fluglewump. Augment your library and put all fluglewombs you own into your hand.| None| None| None| A few moments of contemplation have calmed his mind.\n",
      "Adorable Fluglewump on the Forge of Souls.\" line_break —Vorin, Grixis Overseer\n",
      "Archangel of Juxtaposition\" power and toughness, until end of turn. line_break At the beginning of your upkeep, you get an additional {G}{G} and draw a card, then discard a card.| 0| 1| None| None\n",
      "Archangel of Juxtaposition\" gets +2/+0. line_break \"Great creature's power and toughness are each equal to the greatest land all land cards face.\"\n",
      "Archangel of Juxtaposition\" enchantment| {2}{R}| uncommon| As an additional cost to cast this spell, sacrifice a creature. line_break Enchanted creature gets +1/+1.| None| None| None| \"Many who oppose unbelief have found their faith in the power of the Holy Spirit. We must heed their warning.\"\n",
      "Archangel of Juxtaposition {1}{W}| mythic| Flying line_break Whenever you cast a white spell, the next time you tap an untapped creature, if you have more life this turn, copy that copy. (To copy an instant card, put a +1/+1 counter on it and copy it for each time you cast it without paying its mana cost.)| 4| 3| None| None\n",
      "Archangel of Juxtaposition</Color>| legendary| {1}{R}{R}: Target player reveals the top five cards of their library. Put the rest into their graveyard.| None| None| None| \"For me, it is the path of truth that has given me wings and a soul.\" line_break —Jace Beleren\n",
      "Archangel of Juxtaposition {1}{W}| mythic| Flying line_break Whenever Esper enters the battlefield, sacrifice the top four cards of your library. line_break At the beginning of each end step, untap target creature.| 2| 2| None| \"The foresters often track them down by disguising their movements. When they are caught, they fade into obscurity.\"\n",
      "Archangel of Juxtaposition</Color>| legendary| {1}{R}{R}: Clash with another black creature and you gain 2 life. (Each sacrifices a permanent an opponent controls for each color of mana they control, and those cards don't die until they reach the battlefield.)| None| None| None| It's time for us to save the cycle.\n",
      "Archangel of Juxtaposition {1}{W}| mythic| Flying line_break Whenever you cast a white spell, the next time you tap an untapped creature, if you have more life this turn, copy that copy. (To copy an instant card, put a +1/+1 counter on it and copy it for each time you cast it without paying its mana cost.)| 4| 3| None| None\n",
      "Archangel of Juxtaposition</Color>| {2}{G}{G}| uncommon| Protection from black (This creature can't be blocked except by artifact creatures and/or black creatures.) line_break Whenever two or more instant and sorcery cards are put into a graveyard from the battlefield, each player draws a card.| 3| 3| None| \"I'm still learning. The sooner we learn from our mistakes, the better.\"\n",
      "Darksteel Silverware| Enchantment — Aura| {3}{W}{U}| uncommon| Enchant creature line_break Enchanted creature loses indestructible. line_break Outlast 3 (When this creature dies, return it to the battlefield under its owner's control at the beginning of the next end step or if it was dealt damage, then return it to the battlefield under its owner's control at the beginning of the next end step if it was dealt damage, then return it to the battlefield under its owner's control at the beginning of the next end step or if it was dealt damage, then return it to the battlefield\n",
      "Demonic Paperclip| Artifact| {4}| mythic| Remove an enchantment from another target creature when you put it from your graveyard. line_break When Ghost Warrior enters the battlefield, draw a card at random. line_break Remove three enchantment counters from Saints Row, Inc。 line_break| None| None| None\n",
      "Demonic Paperclip| Artifact — Equipment| {4}| common| Equipped creature can't attack unless it has the dragon's power. line_break Equip {2}| None| None| None| The dragon's outstretched hand gives everything a move of its own. line_break Equip {5}| None| None| None\n"
     ]
    },
    {
     "name": "stderr",
     "output_type": "stream",
     "text": [
      "c:\\users\\hdnfd\\appdata\\local\\programs\\python\\python38\\lib\\site-packages\\matplotlib\\backends\\backend_agg.py:238: RuntimeWarning: Glyph 12290 missing from current font.\n",
      "  font.set_text(s, 0.0, flags=flags)\n",
      "c:\\users\\hdnfd\\appdata\\local\\programs\\python\\python38\\lib\\site-packages\\matplotlib\\backends\\backend_agg.py:201: RuntimeWarning: Glyph 12290 missing from current font.\n",
      "  font.set_text(s, 0, flags=flags)\n"
     ]
    },
    {
     "name": "stdout",
     "output_type": "stream",
     "text": [
      "Eldrazi Rocket Ship| Artifact — Equipment| {2}| uncommon| Equipped creature gets +2/+2. line_break Equip {2} ({2}: Attach to target creature you control. Equip only as a sorcery.) line_break Equip {2} ({2}: Attach to target creature you control. Equip only as a sorcery.) line_break Equip {2} ({2}:\n",
      "Eldrazi Rocket Ship| Artifact — Equipment| {2}| uncommon| Equipped creature gets +2/+2. line_break Equip {2} ({2}: Attach to target creature you control. Equip only as a sorcery.) line_break Equip {2} ({2}: Attach to target creature you control. Equip only as a sorcery.) line_break Equip {3} ({3}:\n",
      "Eldrazi Rocket Ship| rare| Whenever you play a land, create a 2/2 green Dinosaur creature token.| 0| 4| None| Construct used to keep the Eldrazi Catastry in check, but with Yuvi's citadel expanded, things could go cobbling through their defenses.\n",
      "Eldrazi Rocket Shipyard, Commons| Rare| {4}, {T}, Sacrifice Eldrazi Rocket Shipyard: Create a 1/1 red Saproling creature token with flying.| None| None| None| \"Reason is spice. Discord is square territory.\" line_break —Karn, Gamerin' Snipers\n",
      "Eldrazi Rocket Ship| {B}{B}| rare| Enchanted creature gets +0/+2. line_break Cycling {1} ({1}, Discard this card: Draw a card.)| None| None| None| To make it work, it would be as if Riververdrect had mounted the Sphinx and pushed out her nine or ten dragons.\n",
      "Eldrazi Rocket Ship has flying as long as Dominaria Champion is attached to your commander.) line_break Run Away (To block this turn, sacrifice a land. This creature deals massive damage to any target.)| None| None| None| \"Ruthless sounds were an unexpected commodity of Dominaria's abandoned mining districts. It wasn't until the Lycosians and the Dwemer forces began thawing order that a universal kami sent her with orders for a new crusade.\" line_break —Vivien Oxmane, Lord of the Avens\n",
      "Eldrazi Rocket Ship — Construct| {2}{W}| rare| Flying line_break {T}, Sacrifice a creature: Destroy target artifact or enchantment.| 2| 3| None| None\n",
      "Eldrazi Rocket Shipyard Augur's Rage, Artificer // Augur's Rage, Artificer // Augur's Rage| Legendary Creature — Eldrazi Warrior| {1}{G}, {T}: Create a 2/2 green Dragon creature token. line_break {G}, {T}: Return up to one target Eldrazi Rocket to its owner's hand.| 2| 4| None| \"This world could be yours today if you accept the call from my god.\"\n",
      "Eldrazi Rocket Ship (This Vehicle is an artifact with \"{2}, Sacrifice this artifact: Draw a card.\") line_break {T}: Create the top three cards of your library, then put any number of them on top of their owner's library in a random order.| None| None| None| \"It's time for us to make a last stand for our own safety.\" line_break —Sylvan Sun, commander of the Volrath Coalition\n",
      "Eldrazi Rocket Shipyard is a basic land type.| 4| 3| None| \"Don't let too many goblins kill you. I promise we won't end up like that.\" line_break —Gilborn of the First Order\n",
      "Eldrazi Rocket Shipyard Augur Grotto, Boulder Augur Shriner Guildmage Guildmage's Guildmage's Guildmage's Guildmage's Guildmage's Guildmage's Guildmage's Guildmage's Guildmage's Guildmage's Guildmage's Guildmage's Guildmage's Guildmage's Guildmage's Guildmage's Guildmage's Guildmage's Guildmage's Guildmage's Guildmage's Guildmage's Guildmage's Guildmage's Guildmage's Guildmage's Guildmage's Guildmage's Guildmage's Guildmage's Guildmage's Guildmage's Guildmage's Guildmage's Guildmage's Guildmage's Guildmage's Guildmage's Guildmage's Guildmage's Guildmage's Guildmage's Guildmage's Guildmage's Guildmage's Guildmage's Guildmage's Guildmage's Guildmage's Guildmage's Guildmage's Guildmage's Guildmage's Guildmage's Guildmage's Guildmage's Guildmage's Guildmage's Guildmage's Guildmage's Guildmage's Guildmage's Guildmage's Guildmage's Guildmage's Guildmage's Guildmage's Guildmage's Guildmage's Guildmage's Guildmage's Guildmage's Guildmage's Guildmage's Guildmage's Guildmage's Guildmage's Guildmage's Guildmage\n",
      "Eldrazi Rocket Ship (This Vehicle is Projectile-Draining, meaning it can't be kicked.)| 1| 1| None| \"Does this team need an extra armored wing?\" —\"Tombstone Fragment\"\n",
      "Eldrazi Rocket Shipyard Sell Price: 3| None| None| It's easy to become one's own boss. After all, the names are already there.\n",
      "Eldrazi Rocket Ship (This Vehicle is an artifact with \"{2}, Sacrifice this artifact: Draw a card.\") line_break {T}: Create two 1/1 white Rhino artifact creature tokens with flying and haste.| None| None| None| It took only a day for the city of Eredos to become the city it is today.\n",
      "Eldrazi Rocket Shipyard is a basic land type.| 4| 3| None| \"Don't let me steal your weapons from you. The ones you just gave me weren't mine.\" line_break —Azorius, Gruul commander\n",
      "Elf Goblin| {2}{W}| uncommon| {T}: Add {C}. line_break {1}{W}: Add {C}.| None| None| None| \"The goblins are the only ones who can't be trusted.\" line_break —Gerrard of the Goblin Guild\n",
      "Elf Goblin we found in Nettle Fields appeared to be creatures of lesser intelligence. The goblins clung tightly to him, but he wasn't dragging them. He flung himself at her, tossing her guts into a binder's storage closet.\n",
      "Elf Goblin Rogue 3| 2| None| \"It doesn't look good on my wounds. If it ever got this far, it would have been a skeleton that hides behind a desk on a greener, inviting geyser before it surfaced.\" line_break —Tsoung, Gamerinancer\n",
      "Elf Goblin Shaman can't be blocked by enchant creatures. line_break Insolvency {2}{B} (You may cast this card face down as a 2/2 creature for {3}. Turn it face up any time for its morph cost.)| 1| 1| None| \"You may want to take your mana instead of draining it quickly.\"\n",
      "Elf Goblin you control has \"{T}, Sacrifice a Goblin: Add {C}{C}. Draw a card.\"| None| None| None| \"Every goblin knows the greatest secret. Every sane goblin knows the second greatest secret.\" line_break —*Goblin Tales*\n",
      "Elf Goblin| {2}{W}{W}| common| As long as you control a Goblin, Goblin creatures you control get +1/+1.| 1| 2| None| \"The goblins in the jungle are fragile. But they're not fragile alone.\" line_break —Kerek, shapeshifter\n",
      "Elf Goblin Shaman| {2}{G}| uncommon| {T}, Sacrifice a green Goblin: Target creature gets +1/+1 until end of turn.| None| None| None| \"The sword will end our battle.\" line_break —Kavu, goblin sharpshooter\n",
      "Elf Goblin Berserker {1}{W}| common| Whenever a Goblin dies, you may exile a nonland permanent from your graveyard.| 2| 1| None| The gnomes of this world speak with borrowed language and can sing with old melodies, but the gnomes of this world can sing with a new life.\n",
      "Elf Goblin Berserker| {5}{R}| rare| Whenever you cast a spell with converted mana cost 5 or less, create a 1/1 white Goblin Warrior creature token with indestructible. line_break {T}: Create a 1/1 white Goblin Warrior creature token with indestructible.| 2| 2| None| None\n",
      "Elf Goblin Shaman| {6}{W}| uncommon| *When Goblin Shaman enters the battlefield, scry 1. (Look at the top three cards of your library, then put any number of them on the bottom of your library and the rest on top in any order.)| 2| 4| None| None\n",
      "Elf Goblin Shaman, Swampwalk| {2}{U}| uncommon| As an additional cost to cast this spell, sacrifice a land for each Swampwalk you control. line_break {B}, Exile a creature card from your graveyard: Choose one — {B} (You may cast this card from your graveyard for its flashback cost. Then exile it.)| None| None| None| \"You have chosen to be here for the best part of a dozen years.\"\n",
      "Elf Goblin creature with power 8 or greater. line_break When Goblin Berserker enters the battlefield, put an extra +1/+1 counter on Goblin Berserker. Activate this ability only during your turn and only if Goblin Berserker has equipped.| 3| 3| None| None\n",
      "Elf Goblin Shaman| {W}{W}| uncommon| Remove an enchantment from another target creature: Create a token that's a copy of the creature. Activate this ability only once each turn and only once each turn.| 1| 4| None| None\n",
      "Elf Goblin Shaman, Swampwalk| {2}{U}| uncommon| As an additional cost to cast this spell, sacrifice a land. line_break Players can't cast spells from their graveyard.| None| None| None| One for the Goblins' meals and the excellent food of home.\n",
      "Elf Goblin creature with power 8 or greater. line_break When Lizardfolk Protagonist dies, put an extra +1/+1 counter on Goblin Constructs.| 2| 4| None| Like steel, Sandgoblins use stone as their weapon.\n",
      "Elf Goblin Shaman| {W}{W}| uncommon| {4}{W}, {T}: Target creature gets +1/+1 until end of turn.| 1| 3| None| \"I thought this creature was a beast when I saw its eyes.\"\n",
      "Elf Goblin Shaman, Swampwalk| {2}{U}| uncommon| As an additional cost to cast this spell, sacrifice a land. line_break At the beginning of your upkeep, sacrifice another land.| 2| 2| None| The Goblins' lives lie in the depths of their stomachs.\n"
     ]
    },
    {
     "name": "stdout",
     "output_type": "stream",
     "text": [
      "Elf Goblin {1}{W}| common| Whenever you cycle Thalia's Gift, gain control of Thalia's Gift.| 2| 1| None| \"I have known a wizard's dreams. I have learned his tricks.\" line_break —Ojutai\n",
      "Elf Goblin creature with power 8 or greater. line_break When Goblin Berserker enters the battlefield, put an extra +1/+1 counter on Goblin Berserker.| None| None| None| None\n",
      "Flamebreathing Pidgeon| Legendary Creature — Bird| {2}{B}| common| Flying, haste| {3}{B}: Flamebreathing Pidgeon gets +1/+0 until end of turn for each level of dragons in the sky above or below the leader's throne.| 1| 1| None| \"It's light enough for us, and the mountains cold enough that our souls take cover.\"\n",
      "Flying Zombie| {2}{B}| uncommon| Sacrifice a Zombie: Exile target nonland permanent. Creatures who didn't die this turn get -2/-2 until end of turn.| 1| 4| None| \"Their food consists of conch shells and clocks, and among other sickening exploits. Very little of what we eat is tasty for our teeth.\" line_break —Kari, necromancer artificer\n",
      "Flying Zombie—Win−X| {2}{B}{B} ({2}{B}, Exile this card from your graveyard: Draw a card.) line_break {2}{B}: Draw a card.| 2| 4| None| Three drops of viscera form atop their victims, reliving a trauma that left them barren from all sides.\n",
      "Flying Zombie| {3}{U}{U}| rare| Whenever a creature you control attacks, it gets +1/+1 until end of turn.| 2| 2| None| \"It's my second, best stab! After that one, I'll have to kill my first.\"\n",
      "Flying Zombie| {1}{W}| common| Whenever a creature dies, you may return target creature card from your graveyard to your hand.| 1| 1| None| \"The better a mage is, the more he or she will use magic.\" line_break —Nevinyrral\n",
      "Flying Zombie {1}{B}| mythic| Flying line_break Whenever a creature dies, investigate. At the beginning of each end step, put the top card of your library into your graveyard.| None| None| None| None\n",
      "Flying Zombie creature tokens with deathtouch.| 0| 13| None| \"Ridgewalkers can't save you from a swarm of kobolds. So, why should they bother?\" line_break —Forsyn the Swarm\n",
      "Flying Zombie Barbarian Jervi-Jawed Raven| Creature — Dragon| {2}{W}| common| Flying line_break Bushido {3}{W}| rare| Bushido's ability causes up to one target opponent to deal 2 damage to you.| 1| 3| None| \"Our artifacts interrupt everything, so why treat others well?\" line_break —Hekki\n",
      "Flying Zombie creature tokens with deathtouch.| 0| 0| None| \"Ridgewalkers saw Grixis becoming a place of cowboys. Two armored, two catapulted and finally two saved.\" line_break —Wynok, Jeskai Demise\n",
      "Flying Zombie {1}{B}| common| Whenever you cycle an instant or sorcery card, you may pay {1}. If you do, create a 1/1 white Zombie creature token.| 2| 1| None| None\n",
      "Flying Zombie creature tokens with deathtouch.| 0| 0| None| \"We'll keep our heads down. It's not a fun trick. Let's get back to business first. We know how to destroy it.\"\n",
      "Gideon, King of Raisins| Legendary Planeswalker — Gideon| {3}{W}{W}| mythic| [+1]: Target creature gets +1/+1 until end of turn. line_break [−2]: Target creature gets -1/-1 until end of turn. line_break [−7]: Target creature gets -7/-7 until end of turn. line_break [−10]: Target creature gets -10/-10 until end of turn. line_break [−12]: Target creature gets -12/-12 until end of turn. line_break [−15]: Target creature gets -15/-15 until end of turn. line_break [−19]: Target creature gets -19/-19 until end of turn. line_break [−22]: Target creature gets -22/-22 until end of turn. line_break [−25]: Target creature gets -25/-25 until end of turn. line_break [−27]: Target creature gets -27/-27 until end of turn. line_break [−34]: Target creature gets -34/-34 until end of turn. line_break [−42]: Target creature gets -42/-42 until end of turn. line_break [−54\n",
      "Gideon, King of Raisins| Legendary Planeswalker — Gideon| {3}{W}{W}| mythic| [+1]: Target creature gets +1/+1 until end of turn. line_break [−2]: Target creature gets -1/-1 until end of turn. line_break [−7]: Target creature gets -7/-7 until end of turn. line_break [−10]: Target creature gets -10/-10 until end of turn. line_break [−12]: Target creature gets -12/-12 until end of turn. line_break [−15]: Target creature gets -15/-15 until end of turn. line_break [−19]: Target creature gets -19/-19 until end of turn. line_break [−22]: Target creature gets -22/-22 until end of turn. line_break [−25]: Target creature gets -25/-25 until end of turn. line_break [−27]: Target creature gets -27/-27 until end of turn. line_break [−34]: Target creature gets -34/-34 until end of turn. line_break [−42]: Target creature gets -42/-42 until end of turn. line_break [−55\n",
      "Gideon, King of Raisins| Legendary Planeswalker — Gideon| {3}{W}{W}| mythic| [+1]: Target creature gets +1/+1 until end of turn. line_break [−2]: Target creature gets -1/-1 until end of turn. line_break [−7]: Target creature gets -7/-7 until end of turn. line_break [−10]: Target creature gets -10/-10 until end of turn. line_break [−12]: Target creature gets -12/-12 until end of turn. line_break [−15]: Target creature gets -15/-15 until end of turn. line_break [−19]: Target creature gets -19/-19 until end of turn. line_break [−22]: Target creature gets -22/-22 until end of turn. line_break [−25]: Target creature gets -25/-25 until end of turn. line_break [−27]: Target creature gets -27/-27 until end of turn. line_break [−29]: Target creature gets -29/-29 until end of turn. line_break [−34]: Target creature gets -34/-34 until end of turn. line_break [−42\n",
      "Gideon, King of Raisins| Legendary Planeswalker — Gideon| {3}{W}{W}| mythic| [+1]: Target creature gets +1/+1 until end of turn. line_break [−2]: Target creature gets -1/-1 until end of turn. line_break [−7]: Target creature gets -7/-7 until end of turn. line_break [−10]: Target creature gets -10/-10 until end of turn. line_break [−12]: Target creature gets -12/-12 until end of turn. line_break [−15]: Target creature gets -15/-15 until end of turn. line_break [−19]: Target creature gets -19/-19 until end of turn. line_break [−22]: Target creature gets -22/-22 until end of turn. line_break [−25]: Target creature gets -25/-25 until end of turn. line_break [−27]: Target creature gets -27/-27 until end of turn. line_break [−34]: Target creature gets -34/-34 until end of turn. line_break [−42]: Target creature gets -42/-42 until end of turn.| None| None| None\n",
      "Gideon, King of Raisins| Legendary Planeswalker — Gideon| {3}{W}{W}| mythic| [+1]: Target creature gets +1/+1 until end of turn. line_break [−2]: Target creature gets -1/-1 until end of turn. line_break [−7]: Target creature gets -7/-7 until end of turn. line_break [−10]: Target creature gets -10/-10 until end of turn. line_break [−12]: Target creature gets -12/-12 until end of turn. line_break [−17]: Target creature gets -17/-17 until end of turn. line_break [−22]: Target creature gets -22/-22 until end of turn. line_break [−25]: Target creature gets -25/-25 until end of turn. line_break [−27]: Target creature gets -27/-27 until end of turn. line_break [−34]: Target creature gets -34/-34 until end of turn. line_break [−42]: Target creature gets -42/-42 until end of turn. line_break [−55]: Target creature gets -55/-55 until end of turn. line_break [−81\n",
      "Gideon, King of Raisins\" line_break {4}{R}{G}{G}{G}| mythic| Sacrifice Gideon, King of Raisins: You may experience two value-add damage as you cast this spell unless Gideon, King of Raisins or another Argor you control deals damage to the player or planeswalker it's attacking.| 4| 4| None| \"Gideon, Lord of Ilum Sarim, Legend Champion of Pallis, and the Weird. We reward you with success with our greatest wealth. We hear you hum.\"\n",
      "Gideon, King of Raisins player animated a Scheme in place of the rest of the creatures they control.\n",
      "Gideon, King of Raisins| Legendary Planeswalker — Gideon| {4}{R}{G}| mythic| [+1]: Creatures who didn't block this turn have flying. line_break Whenever a player taps a creature they control with flying, exile that creature and each other creature with flying this turn and all creatures later put until end of turn. line_break You may play with flying as you cast this spell but only if you control a Minotaur or if Gideon is at least 4/3 for each card exiled with it. line_break [−1]: Creatures with flying can block any number of Arena Vehicles based\n",
      "Gideon, King of Raisins\" came from another universe, the landscape of the Kjeldoran Insolvency covered with an expansive cloud of Ekai.\n"
     ]
    },
    {
     "name": "stdout",
     "output_type": "stream",
     "text": [
      "Gideon, King of Raisins\n",
      "Gideon, King of Raisins' Might // Mirran Gatefright, Planeswalker — Gideon| {7}{W}{B}| mythic| Flying line_break When Gideon's Might enters the battlefield, sacrifice two Plains. line_break Partner (You can have two commanders.)| None| None| 6| None\n",
      "Gideon, King of Raisins\n",
      "Gideon, King of Raisins' library.)| 4| 4| None| Thallids call it \"every myth that lives.\" It contains mythic the nameless creatures that thrived there during the late and brutal War of Resistance.\n",
      "Gideon, King of Raisins\n",
      "Gideon, Zendikar's Fist| Legendary Planeswalker — Gideon| {3}{W}{W}| mythic| [+1]: Target creature gets +1/+1 until end of turn. line_break [−2]: Target creature gets -1/-1 until end of turn. line_break [−7]: Target creature gets -1/-1 until end of turn. line_break [−10]: Target creature gets -1/-1 until end of turn. line_break [−12]: Target creature gets -1/-1 until end of turn. line_break [−15]: Target creature gets -1/-1 until end of turn. line_break [−19]: Target creature gets -1/-1 until end of turn. line_break [−22]: Target creature gets -1/-1 until end of turn. line_break [−25]: Target creature gets -1/-1 until end of turn. line_break [−34]: Target creature gets -1/-1 until end of turn. line_break [−42]: Target creature gets -1/-1 until end of turn. line_break [−55]: Target creature gets -1/-1 until end of turn. line_break [−\n",
      "Gideon, Zendikar's Fist| Legendary Planeswalker — Gideon| {3}{W}{W}| mythic| [+1]: Target creature gets +1/+1 until end of turn. line_break [−2]: Target creature gets -1/-1 until end of turn. line_break [−7]: Target creature gets -1/-1 until end of turn. line_break [−10]: Target creature gets -1/-1 until end of turn. line_break [−12]: Target creature gets -1/-1 until end of turn. line_break [−15]: Target creature gets -1/-1 until end of turn. line_break [−19]: Target creature gets -1/-1 until end of turn. line_break [−22]: Target creature gets -1/-1 until end of turn. line_break [−25]: Target creature gets -1/-1 until end of turn. line_break [−27]: Target creature gets -1/-1 until end of turn. line_break [−34]: Target creature gets -1/-1 until end of turn. line_break [−42]: Target creature gets -1/-1 until end of turn. line_break [−\n",
      "Gideon, Zendikar's Fist| Legendary Planeswalker — Gideon| {3}{W}{W}| mythic| [+1]: Target creature gets +1/+1 until end of turn. line_break [−2]: Target creature gets -1/-1 until end of turn. line_break [−7]: Target creature gets -1/-1 until end of turn. line_break [−10]: Target creature gets -1/-1 until end of turn. line_break [−12]: Target creature gets -1/-1 until end of turn. line_break [−15]: Target creature gets -1/-1 until end of turn. line_break [−19]: Target creature gets -1/-1 until end of turn. line_break [−22]: Target creature gets -1/-1 until end of turn. line_break [−25]: Target creature gets -1/-1 until end of turn. line_break [−34]: Target creature gets -1/-1 until end of turn. line_break [−42]: Target creature gets -1/-1 until end of turn. line_break [−54]: Target creature gets -1/-1 until end of turn. line_break [−\n",
      "Gideon, Zendikar's Fist| Legendary Planeswalker — Gideon| {3}{W}{W}| mythic| [+1]: Target creature gets +1/+1 until end of turn. line_break [−2]: Target creature gets -1/-1 until end of turn. line_break [−7]: Target creature gets -1/-1 until end of turn. line_break [−10]: Target creature gets -1/-1 until end of turn. line_break [−12]: Target creature gets -1/-1 until end of turn. line_break [−15]: Target creature gets -1/-1 until end of turn. line_break [−20]: Target creature gets -1/-1 until end of turn. line_break [−25]: Target creature gets -1/-1 until end of turn. line_break [−35]: Target creature gets -1/-1 until end of turn. line_break [−42]: Target creature gets -1/-1 until end of turn. line_break [−55]: Target creature gets -1/-1 until end of turn. line_break [−90]: Target creature gets -1/-1 until end of turn. line_break [−\n",
      "Gideon, Zendikar's Fist| Legendary Planeswalker — Gideon| {3}{W}{W}| mythic| [+1]: Target creature gets +1/+1 until end of turn. line_break [−2]: Target creature gets -1/-1 until end of turn. line_break [−7]: Target creature gets -1/-1 until end of turn. line_break [−10]: Target creature gets -1/-1 until end of turn. line_break [−12]: Target creature gets -1/-1 until end of turn. line_break [−15]: Target creature gets -1/-1 until end of turn. line_break [−19]: Target creature gets -1/-1 until end of turn. line_break [−22]: Target creature gets -1/-1 until end of turn. line_break [−25]: Target creature gets -1/-1 until end of turn. line_break [−34]: Target creature gets -1/-1 until end of turn. line_break [−42]: Target creature gets -1/-1 until end of turn. line_break [−55]: Target creature gets -1/-1 until end of turn.| None| None|\n",
      "Gideon, Zendikar's Fist| Legendary Planeswalker — Gideon| {1}{U}{R}| mythic| [+1]: Counter target spell. line_break [−2]: Eternalize that creature attacking each combat if able. line_break [−7]: Create an 8/8 black Shapeshifter creature token with \"At the beginning of your upkeep, draw a card.\" Activate this ability only any time you could cast a sorcery.| None| None| 6 Augur, floating Psyche of Revenge| Legendary Planeswalker — Vex Emissary| {1}{G}| mythic| [+\n",
      "Gideon, Zendikar's Fist| Legendary Planeswalker — Gideon| {5}{U}{U}{U}| mythic| [+1]: Search your library for a basic land card, reveal it, put it into your hand, then shuffle your library. line_break [−3]: Return target land card from your graveyard to your hand. line_break [−7]: If you control four or more lands, Chandra's Favor deals 1 damage to you. line_break [−10]: Chandra's Favor deals 3 damage to you.| None| None| None\n",
      "Gramagul, the Sexy Archer| Legendary Planeswalker — Ramagul| {3}{W}{W}| mythic| [+1]: Draw a card. line_break [−3]: Draw a card. line_break [−7]: Draw a card. line_break [−10]: Draw a card. line_break [−12]: Draw a card. line_break [−14]: Draw a card. line_break [−17]: Draw a card. line_break [−19]: Draw a card. line_break [−22]: Draw a card. line_break [−25]: Draw a card. line_break [−27]: Draw a card. line_break [−29]: Draw a card. line_break [−34]: Draw a card. line_break [−42]: Draw a card. line_break [−55]: Draw a card. line_break [−81]: Draw a card. line_break [−90]: Draw a card. line_break [−91]: Draw a card. line_break [−95]: Draw a card. line_break [−99]: Draw a card. line_break [−100]: Draw a card. end\n",
      "Gramagul, the Sexy Archer| Legendary Planeswalker — Ramagul| {3}{W}{W}| mythic| [+1]: Draw a card. line_break [−3]: Draw a card. line_break [−7]: Draw a card. line_break [−10]: Draw a card. line_break [−12]: Draw a card. line_break [−14]: Draw a card. line_break [−17]: Draw a card. line_break [−19]: Draw a card. line_break [−22]: Draw a card. line_break [−25]: Draw a card. line_break [−27]: Draw a card. line_break [−29]: Draw a card. line_break [−34]: Draw a card. line_break [−42]: Draw a card. line_break [−55]: Draw a card. line_break [−81]: Draw a card. line_break [−90]: Draw a card. line_break [−91]: Draw a card. line_break [−95]: Draw a card. line_break [−98]: Draw a card. line_break [−100]: Draw a card. end\n",
      "Gramagul, the Sexy Archer| Legendary Planeswalker — Ramagul| {3}{W}{W}| mythic| [+1]: Draw a card. line_break [−3]: Draw a card. line_break [−7]: Draw a card. line_break [−10]: Draw a card. line_break [−12]: Draw a card. line_break [−14]: Draw a card. line_break [−17]: Draw a card. line_break [−19]: Draw a card. line_break [−22]: Draw a card. line_break [−25]: Draw a card. line_break [−27]: Draw a card. line_break [−29]: Draw a card. line_break [−34]: Draw a card. line_break [−42]: Draw a card. line_break [−55]: Draw a card. line_break [−81]: Draw a card. line_break [−90]: Draw a card. line_break [−91]: Draw a card. line_break [−95]: Draw a card. line_break [−98]: Draw a card. line_break [−100]: Draw a card. line\n",
      "Gramagul, the Sexy Archer| Legendary Planeswalker — Ramagul| {3}{W}{W}| mythic| [+1]: Draw a card. line_break [−3]: Draw a card. line_break [−7]: Draw a card. line_break [−10]: Draw a card. line_break [−12]: Draw a card. line_break [−14]: Draw a card. line_break [−17]: Draw a card. line_break [−19]: Draw a card. line_break [−22]: Draw a card. line_break [−25]: Draw a card. line_break [−27]: Draw a card. line_break [−29]: Draw a card. line_break [−34]: Draw a card. line_break [−42]: Draw a card. line_break [−55]: Draw a card. line_break [−81]: Draw a card. line_break [−90]: Draw a card. line_break [−91]: Draw a card. line_break [−95]: Draw a card. line_break [−99]: Draw a card. line_break [−100]: Draw a card. line\n"
     ]
    },
    {
     "name": "stdout",
     "output_type": "stream",
     "text": [
      "Gramagul, the Sexy Archer| Legendary Planeswalker — Ramagul| {3}{W}{W}| mythic| [+1]: Draw a card. line_break [−3]: Draw a card. line_break [−7]: Draw a card. line_break [−10]: Draw a card. line_break [−12]: Draw a card. line_break [−14]: Draw a card. line_break [−17]: Draw a card. line_break [−19]: Draw a card. line_break [−22]: Draw a card. line_break [−25]: Draw a card. line_break [−27]: Draw a card. line_break [−29]: Draw a card. line_break [−34]: Draw a card. line_break [−42]: Draw a card. line_break [−55]: Draw a card. line_break [−81]: Draw a card. line_break [−90]: Draw a card. line_break [−91]: Draw a card. line_break [−95]: Draw a card. line_break [−98]: Draw a card. line_break [−100]: Draw a card.|\n",
      "Gramagul, the Sexy Archer| Legendary Battle Axe| Legendary Creature — Axe| {3}{U}{B}| uncommon| Rising — If a creature on the battlefield would deal combat damage this turn, even if its controller lost 5 life, sacrifice it instead. line_break If you control a Snow Elves, you may pay {B}. If you do, sacrifice it, then each other Snow Elf you control would gain that much life and have haste.| 3| 2| None| None\n",
      "Gramagul, the Sexy Archer| Legendary Planeswalker — Ramagul| *| *| \"Ancient Magkas believed the earth could heal itself, but the spirits couldn't see anything with their spiritual eyes.\" line_break —*When was the last time you saw one of the finest cavalrymen of all time converge at your side at Mothin Pass?\n",
      "Gramagul, the Sexy Archer} (You may cast this card face down as a 2/2 creature for {3}. Turn it face up any time for its morph cost.) line_break {T}: Return target blue creature card with converted mana cost 2 or less from your graveyard to your hand.| None| None| None| \"This is a pity. I don't want to have to fight.\"\n",
      "Gramagul, the Sexy Archer| Legendary Planeswalker — Gideon| {4}{R}{R}{R}| mythic| [+1]: Target player explores the top five cards of their library, then puts a legendary creature card from among them into their hand. Draw a card. [−2]: Return Gideon from your graveyard to the battlefield. line_break [−7]: Destroy target artifact or enchantment. line_break [−15]: Gideon deals 2 damage divided as you choose among the colors of your artifacts and/or enchantments.| None| None| None\n",
      "Orange Jellyfish, clawbones, voracious hide-and-seek)| Uncommon| Each rare creature gets +1/+1 until end of turn.| None| None| None| Jellyfish slither into knots when they are roasted.\n",
      "Orange Jellyfish, on the other hand, instead serves as a better source of poisonwood for the fishfolk.\n",
      "Orange Jellyfish\": {2}{G}{G}| uncommon| This spell costs {3} less to cast for each Jellyfish you control. line_break {1}, {T}, Discard a card: Draw a card.| None| None| None| \"This is a pity. I don't want to have to drink the water.\" line_break —Sakadamee, Sombra fisher\n",
      "Orange Jellyfish\" line_break Whenever you cast an instant or sorcery spell, you may exile target nonland permanent.| None| None| None| \"The Goblin Deceiver is new this time. We may have to strike again.\" line_break —Gulda, Kvatch hunter\n",
      "Orange Jellyfish\" and \"Celestial Seal\" have been included as \"frozen waters\" for the purposes of this card.| None| None| None| \"No words can tell a lie unless you reveal yourselves.\" line_break —Fungus Lizard, Phyrexian druid\n",
      "Orange Jellyfish\" and \"Fully Jellyfish\" have together *propagandhi* printed for sale. Buyback — Buyback table, end of card\n",
      "Orange Jellyfish\" and \"Celestial Seal\" have been included as \"frozen waters\" for the purposes of this card.| None| None| None| \"No words can tell a lie from a lie.\" line_break —Ravi, Sona's guardian\n",
      "Shot of Vodka\" / Legendary Creature — Eshkar Archerite Wizard| {3}{U}| uncommon| When \"Vendors Array II\" occurs, value of even one artifact enters the battlefield transformed into a mana ability for up to one mana of that artifact's color.| 3| 5| None| \"Know where you draw, but be patient. Another glance at the enchanted token will show you have already seen yourself.\" line_break —Shivan, shaman of Vorallen line_break —Emrah, First Blood\n",
      "Shot of Vodka \"Go!\" line_break Legendary Enchantment — Aura| {7}{R}{R}| uncommon| Enchant creature line_break Enchanted creature gets +3/+3 and has trample, haste, haste, and vigilance. line_break If Sharloth and his Gamer later deal damage to a creature, draw a card. Activate this ability only any time you could cast a sorcery.| None| None| None| \"I keep thinking that I'm coming up short with this project. I don't have a campfire.\" line_break —Nisa Arenaad\n",
      "Shot of Vodka\" line_break —Valerie, Bride of Vodka\n",
      "Shot of Vodka.\" line_break —Fumido line_break \"For those interested, you could get a head start reading some flavor notes.\"\n",
      "Shot of Vodka,\" a song written for a new generation, and one in which everyone sings \"Don't go overboard.\"\n",
      "Shot of Vodka| Sorcery| {1}{R}| common| At the beginning of your upkeep, you may discard a card. If you do, create a 1/1 white Zombie creature token with flying.| None| None| None| Some vile spirits crave 'all in one.'| None| None| None\n",
      "Shot of Vodka.\" line_break —Furtive Pause\n",
      "Shot of Vodka,\" a barber's specialty.\n",
      "Shot of Vodka.\" line_break —Fumido line_break \"For those interested, you could get a head start on your next roll.\"\n",
      "Shot of Vodka,\" a song written for a new generation, and one in which everyone sings \"Don't go overboard.\"\n",
      "Sliver dodecahedron 3| 4| None| The creature tumbled over the clouds with a ghastly wannabe who then set off on his errands for more murderous frolicking.\n",
      "Sliver dodecahedron (This creature can attack and {T} as soon as it comes under your control. It can't be blocked except by two or more creatures.) line_break {1}{R}, Sacrifice a Dinosaur: Exile Return Cobra Dinosaur from your graveyard to the battlefield.| None| None| None| \"In the time they live, they will be free to devour the earth's seed.\" line_break —Bosin, goblin guide\n",
      "Sliver dodecahedron (This creature can't be blocked as long as defending player controls a Swamp.) line_break When Nicol Bolas enters the battlefield, return Scourge creature card from your graveyard to your hand. line_break Equip {2} ({2}: Attach to target creature you control that's attacking or blocking. Equip only as a sorcery.)| None| None| None| None\n",
      "Sliver dodecahedron (This creature can't be blocked as long as defending player controls a Swamp.) line_break When Nicol Bolas enters the battlefield, return all creature cards from your graveyard to your hand. line_break Equip {2} ({2}: Attach to target creature you control that's attacking or blocking. Equip only as a sorcery.)| None| None| None| None\n",
      "Tackle into Oblivion.\" line_break —Winona, god of vaze\n",
      "Tackle into Oblivion, then return to it's owner's hand.| None| None| None| None\n",
      "Tackle into Oblivion. It deals 1 damage to the player or planeswalker you control.| None| None| None| None\n",
      "Tackle into Oblivion.\" line_break —{T}| uncommon| When you cast this spell, choose a creature type. It's a Swamp. line_break {T}: Add {C}.| None| None| None| None\n",
      "Tackle into Oblivion.| 3| 3| None| \"So you mean to say I'll be okay, you damned coddled *you*?\" line_break —Chaya\n",
      "Tackle into Oblivion.\" line_break —Fumigate line_break Sacrifice a creature: Return target nonland permanent to its owner's hand.| None| None| None| Some elves simply refuse to leave their towns.\n",
      "Tackle into Oblivion {1}{B}| mythic| Flying line_break Whenever you cast a white spell, the player that cast the spell gains advantage until end of turn.| 1| 3| None| None\n",
      "Tackle into Oblivion, then destroy all artifacts you control.| 13| 13| None| \"Where our dreams lie now, I think you will succeed. Let us see you, and I shall bring you strength.\"\n",
      "Tackle into Oblivion.| 3| 3| None| \"Please wait and watch the abyss. It will not take long for us to smash the creatures that pass through it.\" line_break —Ahog, First Avatar of the Free Beacon\n",
      "Tackle into Oblivion.\" line_break —Furtive Pause\n",
      "Tackle into Oblivion {1}{B}| common| Amplify {B} (You may cast this card face down as a 2/2 creature for {3}. Turn it face up any time for its power and toughness.) line_break Destroy target artifact or enchantment.| 1| 3| None| None\n",
      "Tackle into Oblivion, then destroy all artifacts you control.| None| None| None| \"Two drakes forced out from behind my silo. Two disallowed. So, two fate-stealing.\" line_break —Afdotada\n"
     ]
    },
    {
     "name": "stdout",
     "output_type": "stream",
     "text": [
      "Tackle into Oblivion.| 3| 3| None| \"No one else can hold my axe for long, so be it!\"\n",
      "Tackle into Oblivion.\" line_break —Frostcaller\n",
      "Tackle into Oblivion {1}{B}| mythic| Flying line_break Whenever you cast a white spell, the player that cast the spell gains control of the exiled card.| None| None| None| None\n",
      "Tackle into Oblivion, then destroy all artifacts you control.| None| None| None| \"Where our dreams lie now, we shall find the fulfillment of our last.\"\n",
      "Teferi, the Jerklord| Legendary Planeswalker — Faerie| {3}{W}{W}| mythic| [+1]: Target creature gets +1/+1 until end of turn. line_break [−2]: Target creature gets -1/-1 until end of turn. line_break [−7]: Target creature gets -1/-1 until end of turn. line_break [−10]: Target creature gets -1/-1 until end of turn. line_break [−12]: Target creature gets -1/-1 until end of turn. line_break [−15]: Target creature gets -1/-1 until end of turn. line_break [−19]: Target creature gets -1/-1 until end of turn. line_break [−22]: Target creature gets -1/-1 until end of turn. line_break [−25]: Target creature gets -1/-1 until end of turn. line_break [−34]: Target creature gets -1/-1 until end of turn. line_break [−42]: Target creature gets -1/-1 until end of turn. line_break [−55]: Target creature gets -1/-1 until end of turn. line_break [−\n",
      "Teferi, the Jerklord| Legendary Planeswalker — Faerie| {3}{W}{W}| mythic| [+1]: Target creature gets +1/+1 until end of turn. line_break [−2]: Target creature gets -1/-1 until end of turn. line_break [−7]: Target creature gets -1/-1 until end of turn. line_break [−10]: Target creature gets -1/-1 until end of turn. line_break [−12]: Target creature gets -1/-1 until end of turn. line_break [−15]: Target creature gets -1/-1 until end of turn. line_break [−19]: Target creature gets -1/-1 until end of turn. line_break [−22]: Target creature gets -1/-1 until end of turn. line_break [−25]: Target creature gets -1/-1 until end of turn. line_break [−27]: Target creature gets -1/-1 until end of turn. line_break [−34]: Target creature gets -1/-1 until end of turn. line_break [−42]: Target creature gets -1/-1 until end of turn. line_break [−\n",
      "Teferi, the Jerklord| Legendary Planeswalker — Faerie| {3}{W}{W}| mythic| [+1]: Target creature gets +1/+1 until end of turn. line_break [−2]: Target creature gets -1/-1 until end of turn. line_break [−7]: Target creature gets -1/-1 until end of turn. line_break [−10]: Target creature gets -1/-1 until end of turn. line_break [−12]: Target creature gets -1/-1 until end of turn. line_break [−15]: Target creature gets -1/-1 until end of turn. line_break [−19]: Target creature gets -1/-1 until end of turn. line_break [−22]: Target creature gets -1/-1 until end of turn. line_break [−25]: Target creature gets -1/-1 until end of turn. line_break [−34]: Target creature gets -1/-1 until end of turn. line_break [−42]: Target creature gets -1/-1 until end of turn. line_break [−54]: Target creature gets -1/-1 until end of turn. line_break [−\n",
      "Teferi, the Jerklord| Legendary Planeswalker — Faerie| {3}{W}{W}| mythic| [+1]: Target creature gets +1/+1 until end of turn. line_break [−2]: Target creature gets -1/-1 until end of turn. line_break [−7]: Target creature gets -1/-1 until end of turn. line_break [−10]: Target creature gets -1/-1 until end of turn. line_break [−12]: Target creature gets -1/-1 until end of turn. line_break [−15]: Target creature gets -1/-1 until end of turn. line_break [−19]: Target creature gets -1/-1 until end of turn. line_break [−22]: Target creature gets -1/-1 until end of turn. line_break [−25]: Target creature gets -1/-1 until end of turn. line_break [−34]: Target creature gets -1/-1 until end of turn. line_break [−42]: Target creature gets -1/-1 until end of turn. line_break [−55]: Target creature gets -1/-1 until end of turn.| None| None|\n",
      "Teferi, the Jerklord| Legendary Planeswalker — Faerie| {3}{W}{W}| mythic| [+1]: Target creature gets +1/+1 until end of turn. line_break [−2]: Target creature gets -1/-1 until end of turn. line_break [−7]: Target creature gets -1/-1 until end of turn. line_break [−10]: Target creature gets -1/-1 until end of turn. line_break [−12]: Target creature gets -1/-1 until end of turn. line_break [−15]: Target creature gets -1/-1 until end of turn. line_break [−19]: Target creature gets -1/-1 until end of turn. line_break [−22]: Target creature gets -1/-1 until end of turn. line_break [−25]: Target creature gets -1/-1 until end of turn. line_break [−27]: Target creature gets -1/-1 until end of turn. line_break [−34]: Target creature gets -1/-1 until end of turn. line_break [−42]: Target creature gets -1/-1 until end of turn.| None| None|\n",
      "Teferi, the Jerkass}, legendary raresmith: Legendary creatures get +1/+1, and legendary creatures get +1/+0. line_break Whenever a legendary enchantment enters the battlefield under your control, draw a card.| 5| 5| None| None\n",
      "Teferi, the Jerkshok in search of his lost artifacts.\n",
      "Teferi, the Jerkass Reveler of Souls began a quest to purge his soul and return to Azorius life.\n",
      "Teferi, the Jerkouft Hound // Emerald Sentinel // Cosmic Angel // Femeref // Elesh Norn // Ephemera // Ulvenwald Knight // Vigor of Desolation // Verdant Aura // Teferi's Sun // Bant by Rodrik Autarch // Eldrazi Cleric // Fallen Bolas // Zendikar Demon // Undercity Architect // Tempest Wind // Vizier of Entanglement // Chimera of Horrors // Darul of Korlis // Puma of Dusk // Meddling of Mount Hope // Chaos Fox // Meddling of Zendikar // Bastion Mentor // Bolas Gorger // Liliana Ferus // Verdant Aura // Eldrazi Blade // Phoenix of No Return // Satyr Cleric // Floodlord of Rain // Oxenburger Rampart // Sunsovereign Spire // Shapeshifter of Chaos // Hakkar Homunculus // Merfolk Warrior // Bolas Goliath // Vivian Dauth // Vengeful Outcast // Ephara Shadowcrafter // Mirror Entity // Emrakul Mentor // Hope of Rage // Harpy Trampling // Elspeth Elf Tactician // Bolas Heavy Strike // Korlis Sorcerer // Kalonian Gorger // K\n",
      "Teferi, the Jerkass Jervi-Jockey. (Pay homage, watch the Esper missteps of Tibalt the Immortal. Your efforts to reforge Tibalt now pay a hefty favor.) line_break —Teferi, the Jerkass Jervi-Jockey\n",
      "Teferi, the Jerkass Reveler of Souls—and her followers—will serve us well.\n",
      "Velicraptor go Vroom| Artifact — Equipment| {2}| uncommon| Equipped creature gets +2/+2. line_break Equip {2} ({2}: Attach to target creature you control. Equip only as a sorcery.) line_break Equip {2} ({2}: Attach to target creature you control. Equip only as a sorcery.) line_break Equip {3} ({3}: Attach to target creature you control. Equip only as a sorcery.) line_break Equip {4} ({4}: Attach to target creature you control. Equip only as a sorcery.) line_break Equip {5} ({5}: Attach to target creature you control. Equip only as a sorcery.) line_break Equip {6} ({6}: Attach to target creature you control. Equip only as a sorcery.) line_break Equip {7} ({7}: Attach to target creature you control. Equip only as a sorcery.) line_break Equip {8} ({8}: Attach to target creature you control. Equip only as a sorcery.) line_break Equip {9} ({9}: Attach to target creature you control. Equip only as a sorcery.) line_break Equip {10} ({10}: Attach\n",
      "Velicraptor go Vroom| Artifact — Equipment| {2}| uncommon| Equipped creature gets +2/+2. line_break Equip {2} ({2}: Attach to target creature you control. Equip only as a sorcery.) line_break Equip {2} ({2}: Attach to target creature you control. Equip only as a sorcery.) line_break Equip {3} ({3}: Attach to target creature you control. Equip only as a sorcery.) line_break Equip {4} ({4}: Attach to target creature you control. Equip only as a sorcery.) line_break Equip {5} ({5}: Attach to target creature you control. Equip only as a sorcery.) line_break Equip {6} ({6}: Attach to target creature you control. Equip only as a sorcery.) line_break Equip {7} ({7}: Attach to target creature you control. Equip only as a sorcery.) line_break Equip {8} ({8}: Attach to target creature you control. Equip only as a sorcery.) line_break Equip {9} ({9}: Attach to target creature you control. Equip only as a sorcery.)| None| None| None\n",
      "Velicraptor go Vroom| Artifact — Equipment| {2}| uncommon| Equipped creature gets +2/+2. line_break Equip {2} ({2}: Attach to target creature you control. Equip only as a sorcery.) line_break Equip {2} ({2}: Attach to target creature you control. Equip only as a sorcery.) line_break Equip {3} ({3}: Attach to target creature you control. Equip only as a sorcery.) line_break Equip {4} ({4}: Attach to target creature you control. Equip only as a sorcery.) line_break Equip {5} ({5}: Attach to target creature you control. Equip only as a sorcery.) line_break Equip {6} ({6}: Attach to target creature you control. Equip only as a sorcery.) line_break Equip {7} ({7}: Attach to target creature you control. Equip only as a sorcery.) line_break Equip {8} ({8}: Attach to target creature you control. Equip only as a sorcery.) line_break Equip {9} ({9}: Attach to target creature you control. Equip only as a sorcery.) line_break {10} ({10}: Attach to\n",
      "Velicraptor go Vroom| Artifact — Equipment| {2}| uncommon| Equipped creature gets +2/+2. line_break Equip {2} ({2}: Attach to target creature you control. Equip only as a sorcery.) line_break Equip {2} ({2}: Attach to target creature you control. Equip only as a sorcery.) line_break Equip {3} ({3}: Attach to target creature you control. Equip only as a sorcery.) line_break Equip {4} ({4}: Attach to target creature you control. Equip only as a sorcery.) line_break Equip {5} ({5}: Attach to target creature you control. Equip only as a sorcery.) line_break Equip {6} ({6}: Attach to target creature you control. Equip only as a sorcery.) line_break Equip {7} ({7}: Attach to target creature you control. Equip only as a sorcery.) line_break Equip {8} ({8}: Attach to target creature you control. Equip only as a sorcery.) line_break Equip {9} ({9}: Attach to target creature you control. Equip only as a sorcery.) line_break Equip {10} ({10}: Attattach\n"
     ]
    },
    {
     "name": "stdout",
     "output_type": "stream",
     "text": [
      "Velicraptor go Vroom Farm's citizens animated a Scheme in place of slogging and wishing creatures to pass.\n",
      "Velicraptor go Vroomara in search of his lost artifacts.\n",
      "Velicraptor go Vroom.\" line_break —Winona, god of vaze\n",
      "Velicraptor go Vroom, you may choose new targets for the decree. line_break {T}: Add {C}.| None| None| None| One day those who will not heed Volrath's edict shall stand as the last in the Hulking Academy, slain or not.\n",
      "Velicraptor go Vroom at checkout.\n",
      "Velicraptor go Vroom.\n",
      "Velicraptor go Vroom to the Right with you.\n",
      "Velicraptor go Vroom on the Volrath map.| None| None| None| \"It is always true to the dragon that the dragon holds the soul of the world, a world whose fate will forever stand in its path.\" line_break —Kessig V, Vvardenfell\n",
      "Velicraptor go Vroom, Lord of Bones.\"\n",
      "Velicraptor go Vroom to carve out her own identity.\n",
      "Velicraptor go Vroomeroq was sworn in.\" line_break —Vorcelain Esper\n",
      "Velicraptor go Vroom-Dream or Vroom-Seer, and all face 2 damage each.\" line_break —Innervolution cards (click to reveal cards with the same name as this permanent.) line_break Equip {2} ({2}| common): Create a 2/2 red Nissa artifact creature token.| None| None| None| \"I know all Tarkir will soon vanish without her. You know where it was hid. We are saved.\" line_break —During the Menace in Meereen\n",
      "Velicraptor go Vroom Hukarran fighter jets fly.| 3| 2| None| On Suleiman's journey across the fissure, there is only one thing that stands out from the carnage and horrors of its once-fossile shores: extinction.\n",
      "Velicraptor go Vroom.\n",
      "Velicraptor go Vroom to the Right with you.\n",
      "Velicraptor go Vroom on the Volrath map.| None| None| None| \"It is always true to the dragon that the dragon holds the soul of the world, a world whose fate will forever stand in its path.\" line_break —Kessig V, Vvardenfell\n",
      "Velicraptor go Vroom, Lord of Bones.\"\n"
     ]
    }
   ],
   "source": [
    "for f in files:\n",
    "    cards = load_json('CardsRound1/' + f)\n",
    "    form_table(cards, output_name='OutputsRound1/%s'%f[:-5])"
   ]
  },
  {
   "cell_type": "code",
   "execution_count": null,
   "metadata": {},
   "outputs": [],
   "source": []
  },
  {
   "cell_type": "code",
   "execution_count": null,
   "metadata": {
    "scrolled": true
   },
   "outputs": [],
   "source": []
  }
 ],
 "metadata": {
  "kernelspec": {
   "display_name": "Python 3",
   "language": "python",
   "name": "python3"
  },
  "language_info": {
   "codemirror_mode": {
    "name": "ipython",
    "version": 3
   },
   "file_extension": ".py",
   "mimetype": "text/x-python",
   "name": "python",
   "nbconvert_exporter": "python",
   "pygments_lexer": "ipython3",
   "version": "3.8.7"
  }
 },
 "nbformat": 4,
 "nbformat_minor": 4
}
